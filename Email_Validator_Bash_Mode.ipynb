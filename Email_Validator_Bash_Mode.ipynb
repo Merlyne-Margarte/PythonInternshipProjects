{
  "nbformat": 4,
  "nbformat_minor": 0,
  "metadata": {
    "colab": {
      "provenance": [],
      "authorship_tag": "ABX9TyNbZiFkG6MmAcblI8dVTJ7L",
      "include_colab_link": true
    },
    "kernelspec": {
      "name": "python3",
      "display_name": "Python 3"
    },
    "language_info": {
      "name": "python"
    }
  },
  "cells": [
    {
      "cell_type": "markdown",
      "metadata": {
        "id": "view-in-github",
        "colab_type": "text"
      },
      "source": [
        "<a href=\"https://colab.research.google.com/github/Merlyne-Margarte/PythonInternshipProjects/blob/main/Email_Validator_Bash_Mode.ipynb\" target=\"_parent\"><img src=\"https://colab.research.google.com/assets/colab-badge.svg\" alt=\"Open In Colab\"/></a>"
      ]
    },
    {
      "cell_type": "markdown",
      "source": [
        "**MINOR PROJECT**\n",
        "\n",
        "EMAIL VALIDATOR- BASH MODE"
      ],
      "metadata": {
        "id": "GEuLW3PzR_Vm"
      }
    },
    {
      "cell_type": "code",
      "execution_count": null,
      "metadata": {
        "id": "IY1oKYE38Scm"
      },
      "outputs": [],
      "source": [
        "#opening a file which has a list of email id inputs and creating a new file in write mode to write output(valid or invalid)\n",
        "f1=open('input.txt')\n",
        "f2=open('output.txt','w')\n",
        "while(1):\n",
        "    lis=f1.readlines()#saving the file lines as elements in a list\n",
        "    for i in lis:\n",
        "        email=i.strip()#separating each element in list\n",
        "        #function to check the conditions for local part of email id\n",
        "        def Validate_local(local):\n",
        "                n_l=len(local)\n",
        "                l=['+','!','#','$','%','^','&','*','=','_','-','{','|','}','?','/','~','.',\" \"]\n",
        "                c=0\n",
        "                sl=0\n",
        "                if len(local)>64:#checking the condition of local part being under 64 characters\n",
        "                    return 0\n",
        "                else:\n",
        "                  if len(local)>0:\n",
        "                    if local[0].isalnum()==True and local[n_l-1].isalnum()==True:#checking whether the first and last elements of local part are characters\n",
        "                      for i in range(0,len(local)):\n",
        "                        if local[i].isalnum()==False:\n",
        "                          if local[i] in l:\n",
        "                            if(local[i]!=local[i+1]):#checking for consecutive special characters(not valid)\n",
        "                              status_locall=1\n",
        "                            else:\n",
        "                              return 0\n",
        "                          else:\n",
        "                            return 0\n",
        "                        else:\n",
        "                          status_local=1\n",
        "                    else:\n",
        "                      return 0\n",
        "                  else:\n",
        "                    return 0\n",
        "                return status_local\n",
        "\n",
        "        #function to check for domain part of email id\n",
        "\n",
        "        def Validate_domain(domain):\n",
        "          if len(domain)<6:#checking that the domain part is greater than 6 in length\n",
        "            return 0\n",
        "          else:\n",
        "            last = domain.split('.')[-1]#splitting the top-level domain\n",
        "            if last.isalpha()==False:#if the top-level domain is given as ip address\n",
        "              import re\n",
        "              def validate_ip(domain, last):#function to validate ip address\n",
        "                d=domain[1:-1]\n",
        "                reg = \"^((25[0-5]|2[0-4][0-9]|1[0-9][0-9]|[1-9]?[0-9])\\.){3}(25[0-5]|2[0-4][0-9]|1[0-9][0-9]|[1-9]?[0-9])$\"\n",
        "                p=re.compile(reg)\n",
        "                if(re.search(p,d)):\n",
        "                  return 1\n",
        "                elif(re.search(p,domain)):\n",
        "                  return 1\n",
        "                else:\n",
        "                  return 0\n",
        "              status_domain=validate_ip(domain, last)#calling the validate_ip function\n",
        "            else:\n",
        "              for i in range(0,len(domain)):#checking for consecutive special characters\n",
        "                if (domain[i]=='.' and domain[i+1]=='.') or (domain[i]=='-' and domain[i+1]=='-') or domain[0]=='-' or domain[0]=='.':#checking for hyphens and periods being consecutive(invalid) and being the first letter of domain part(invalid)\n",
        "                  return 0\n",
        "                status_domain=1\n",
        "                if last=='org' or last=='com' or last=='edu':#checking for valid top-level domain\n",
        "                  status_domain=1\n",
        "                else:\n",
        "                  return 0\n",
        "            return status_domain\n",
        "        #function to check the whole email id and calling necessary functions to check local and domain part\n",
        "        def Email_Validator(email):\n",
        "          if(len(email)>254):#checking for character limit\n",
        "            return 0\n",
        "          if('@' in email):#checking for '@' symbol\n",
        "            if email.count('@')>1:#checking for more than one '@' symbol\n",
        "              return 0\n",
        "            else:\n",
        "              status=1\n",
        "          else:\n",
        "            return 0\n",
        "          local, domain=email.split('@') #splitting email into local and domain\n",
        "          status_local=Validate_local(local) #validate_local function call\n",
        "          status_domain= Validate_domain(domain) #validate_domain function call\n",
        "          if status_local==1 and status_domain==1:#checking whether both local and domain parts are valid\n",
        "            status = 1\n",
        "          else:\n",
        "            status=0\n",
        "          return status\n",
        "\n",
        "        status=Email_Validator(email) #calling email_validator function\n",
        "        if status==1: #for writing into the file f2\n",
        "            f2.write(\"*VALID*-- {}\\n\".format(email))\n",
        "        else:\n",
        "            f2.write(\"INVALID-- {}\\n\".format(email))\n",
        "f1.close()\n",
        "f2.close()"
      ]
    }
  ]
}